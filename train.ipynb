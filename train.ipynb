{
 "cells": [
  {
   "cell_type": "code",
   "execution_count": 1,
   "metadata": {},
   "outputs": [
    {
     "name": "stdout",
     "output_type": "stream",
     "text": [
      "Ultralytics YOLOv8.1.42  Python-3.9.10 torch-2.1.1+cu118 CUDA:0 (NVIDIA GeForce GTX 1660 SUPER, 6144MiB)\n",
      "Setup complete  (12 CPUs, 31.9 GB RAM, 646.7/931.5 GB disk)\n"
     ]
    }
   ],
   "source": [
    "import torch\n",
    "print(torch.__version__)\n",
    "import ultralytics\n",
    "from ultralytics import YOLO\n",
    "ultralytics.checks()"
   ]
  },
  {
   "cell_type": "code",
   "execution_count": 2,
   "metadata": {},
   "outputs": [
    {
     "name": "stdout",
     "output_type": "stream",
     "text": [
      "2.1.1+cu118\n"
     ]
    }
   ],
   "source": [
    "import torch\n",
    "print(torch.__version__)"
   ]
  },
  {
   "cell_type": "code",
   "execution_count": 3,
   "metadata": {},
   "outputs": [],
   "source": [
    "#model = YOLO(\"yolov8n.yaml\")  # build a new model from scratch\n",
    "model = YOLO(\"yolov8n.pt\")  "
   ]
  },
  {
   "cell_type": "code",
   "execution_count": null,
   "metadata": {},
   "outputs": [],
   "source": [
    "import torch\n",
    "#torch.cuda.set_per_process_memory_fraction(0.5)  # Set to 50% of available GPU memory\n"
   ]
  },
  {
   "cell_type": "code",
   "execution_count": 4,
   "metadata": {},
   "outputs": [
    {
     "name": "stdout",
     "output_type": "stream",
     "text": [
      "Ultralytics YOLOv8.1.42  Python-3.9.10 torch-2.1.1+cu118 CUDA:0 (NVIDIA GeForce GTX 1660 SUPER, 6144MiB)\n",
      "\u001b[34m\u001b[1mengine\\trainer: \u001b[0mtask=detect, mode=train, model=yolov8n.pt, data=D:/X_View_Refreshed_Project/military_xview.yaml, epochs=100, time=None, patience=100, batch=16, imgsz=512, save=True, save_period=-1, cache=False, device=None, workers=8, project=None, name=train2, exist_ok=False, pretrained=True, optimizer=auto, verbose=True, seed=0, deterministic=True, single_cls=False, rect=False, cos_lr=False, close_mosaic=10, resume=False, amp=True, fraction=1.0, profile=False, freeze=None, multi_scale=False, overlap_mask=True, mask_ratio=4, dropout=0.0, val=True, split=val, save_json=False, save_hybrid=False, conf=None, iou=0.7, max_det=300, half=False, dnn=False, plots=True, source=None, vid_stride=1, stream_buffer=False, visualize=False, augment=False, agnostic_nms=False, classes=None, retina_masks=False, embed=None, show=False, save_frames=False, save_txt=False, save_conf=False, save_crop=False, show_labels=True, show_conf=True, show_boxes=True, line_width=None, format=torchscript, keras=False, optimize=False, int8=False, dynamic=False, simplify=False, opset=None, workspace=4, nms=False, lr0=0.01, lrf=0.01, momentum=0.937, weight_decay=0.0005, warmup_epochs=3.0, warmup_momentum=0.8, warmup_bias_lr=0.1, box=7.5, cls=0.5, dfl=1.5, pose=12.0, kobj=1.0, label_smoothing=0.0, nbs=64, hsv_h=0.015, hsv_s=0.7, hsv_v=0.4, degrees=0.0, translate=0.1, scale=0.5, shear=0.0, perspective=0.0, flipud=0.0, fliplr=0.5, bgr=0.0, mosaic=1.0, mixup=0.0, copy_paste=0.0, auto_augment=randaugment, erasing=0.4, crop_fraction=1.0, cfg=None, tracker=botsort.yaml, save_dir=runs\\detect\\train2\n",
      "Overriding model.yaml nc=80 with nc=17\n",
      "\n",
      "                   from  n    params  module                                       arguments                     \n",
      "  0                  -1  1       464  ultralytics.nn.modules.conv.Conv             [3, 16, 3, 2]                 \n",
      "  1                  -1  1      4672  ultralytics.nn.modules.conv.Conv             [16, 32, 3, 2]                \n",
      "  2                  -1  1      7360  ultralytics.nn.modules.block.C2f             [32, 32, 1, True]             \n",
      "  3                  -1  1     18560  ultralytics.nn.modules.conv.Conv             [32, 64, 3, 2]                \n",
      "  4                  -1  2     49664  ultralytics.nn.modules.block.C2f             [64, 64, 2, True]             \n",
      "  5                  -1  1     73984  ultralytics.nn.modules.conv.Conv             [64, 128, 3, 2]               \n",
      "  6                  -1  2    197632  ultralytics.nn.modules.block.C2f             [128, 128, 2, True]           \n",
      "  7                  -1  1    295424  ultralytics.nn.modules.conv.Conv             [128, 256, 3, 2]              \n",
      "  8                  -1  1    460288  ultralytics.nn.modules.block.C2f             [256, 256, 1, True]           \n",
      "  9                  -1  1    164608  ultralytics.nn.modules.block.SPPF            [256, 256, 5]                 \n",
      " 10                  -1  1         0  torch.nn.modules.upsampling.Upsample         [None, 2, 'nearest']          \n",
      " 11             [-1, 6]  1         0  ultralytics.nn.modules.conv.Concat           [1]                           \n",
      " 12                  -1  1    148224  ultralytics.nn.modules.block.C2f             [384, 128, 1]                 \n",
      " 13                  -1  1         0  torch.nn.modules.upsampling.Upsample         [None, 2, 'nearest']          \n",
      " 14             [-1, 4]  1         0  ultralytics.nn.modules.conv.Concat           [1]                           \n",
      " 15                  -1  1     37248  ultralytics.nn.modules.block.C2f             [192, 64, 1]                  \n",
      " 16                  -1  1     36992  ultralytics.nn.modules.conv.Conv             [64, 64, 3, 2]                \n",
      " 17            [-1, 12]  1         0  ultralytics.nn.modules.conv.Concat           [1]                           \n",
      " 18                  -1  1    123648  ultralytics.nn.modules.block.C2f             [192, 128, 1]                 \n",
      " 19                  -1  1    147712  ultralytics.nn.modules.conv.Conv             [128, 128, 3, 2]              \n",
      " 20             [-1, 9]  1         0  ultralytics.nn.modules.conv.Concat           [1]                           \n",
      " 21                  -1  1    493056  ultralytics.nn.modules.block.C2f             [384, 256, 1]                 \n",
      " 22        [15, 18, 21]  1    754627  ultralytics.nn.modules.head.Detect           [17, [64, 128, 256]]          \n",
      "Model summary: 225 layers, 3014163 parameters, 3014147 gradients, 8.2 GFLOPs\n",
      "\n",
      "Transferred 319/355 items from pretrained weights\n",
      "Freezing layer 'model.22.dfl.conv.weight'\n",
      "\u001b[34m\u001b[1mAMP: \u001b[0mrunning Automatic Mixed Precision (AMP) checks with YOLOv8n...\n",
      "\u001b[34m\u001b[1mAMP: \u001b[0mchecks passed \n"
     ]
    },
    {
     "name": "stderr",
     "output_type": "stream",
     "text": [
      "\u001b[34m\u001b[1mtrain: \u001b[0mScanning D:\\X_View_Refreshed_Project\\YOLO_Format_Dataset\\Tiled_Dataset\\Military_Tiled_Split_dataset\\Train\\labels... 3263 images, 29892 backgrounds, 0 corrupt: 100%|██████████| 33155/33155 [00:12<00:00, 2630.26it/s]\n"
     ]
    },
    {
     "name": "stdout",
     "output_type": "stream",
     "text": [
      "\u001b[34m\u001b[1mtrain: \u001b[0mNew cache created: D:\\X_View_Refreshed_Project\\YOLO_Format_Dataset\\Tiled_Dataset\\Military_Tiled_Split_dataset\\Train\\labels.cache\n"
     ]
    },
    {
     "name": "stderr",
     "output_type": "stream",
     "text": [
      "\u001b[34m\u001b[1mval: \u001b[0mScanning D:\\X_View_Refreshed_Project\\YOLO_Format_Dataset\\Tiled_Dataset\\Military_Tiled_Split_dataset\\Valid\\labels... 3741 images, 6348 backgrounds, 0 corrupt: 100%|██████████| 10089/10089 [00:05<00:00, 1956.30it/s]\n"
     ]
    },
    {
     "name": "stdout",
     "output_type": "stream",
     "text": [
      "\u001b[34m\u001b[1mval: \u001b[0mNew cache created: D:\\X_View_Refreshed_Project\\YOLO_Format_Dataset\\Tiled_Dataset\\Military_Tiled_Split_dataset\\Valid\\labels.cache\n",
      "Plotting labels to runs\\detect\\train2\\labels.jpg... \n",
      "\u001b[34m\u001b[1moptimizer:\u001b[0m 'optimizer=auto' found, ignoring 'lr0=0.01' and 'momentum=0.937' and determining best 'optimizer', 'lr0' and 'momentum' automatically... \n",
      "\u001b[34m\u001b[1moptimizer:\u001b[0m SGD(lr=0.01, momentum=0.9) with parameter groups 57 weight(decay=0.0), 64 weight(decay=0.0005), 63 bias(decay=0.0)\n",
      "Image sizes 512 train, 512 val\n",
      "Using 8 dataloader workers\n",
      "Logging results to \u001b[1mruns\\detect\\train2\u001b[0m\n",
      "Starting training for 100 epochs...\n",
      "\n",
      "      Epoch    GPU_mem   box_loss   cls_loss   dfl_loss  Instances       Size\n"
     ]
    },
    {
     "name": "stderr",
     "output_type": "stream",
     "text": [
      "      1/100      1.55G      2.266      26.21      1.581          9        512:  17%|█▋        | 351/2073 [02:47<13:42,  2.09it/s]\n"
     ]
    },
    {
     "ename": "KeyboardInterrupt",
     "evalue": "",
     "output_type": "error",
     "traceback": [
      "\u001b[1;31m---------------------------------------------------------------------------\u001b[0m",
      "\u001b[1;31mKeyboardInterrupt\u001b[0m                         Traceback (most recent call last)",
      "Cell \u001b[1;32mIn[4], line 1\u001b[0m\n\u001b[1;32m----> 1\u001b[0m results \u001b[38;5;241m=\u001b[39m \u001b[43mmodel\u001b[49m\u001b[38;5;241;43m.\u001b[39;49m\u001b[43mtrain\u001b[49m\u001b[43m(\u001b[49m\u001b[43mdata\u001b[49m\u001b[38;5;241;43m=\u001b[39;49m\u001b[38;5;124;43m'\u001b[39;49m\u001b[38;5;124;43mD:/X_View_Refreshed_Project/military_xview.yaml\u001b[39;49m\u001b[38;5;124;43m'\u001b[39;49m\u001b[43m,\u001b[49m\u001b[43m \u001b[49m\u001b[43mepochs\u001b[49m\u001b[38;5;241;43m=\u001b[39;49m\u001b[38;5;241;43m100\u001b[39;49m\u001b[43m,\u001b[49m\u001b[43m \u001b[49m\u001b[43mimgsz\u001b[49m\u001b[38;5;241;43m=\u001b[39;49m\u001b[38;5;241;43m512\u001b[39;49m\u001b[43m)\u001b[49m\n",
      "File \u001b[1;32md:\\X_View_Refreshed_Project\\venv\\lib\\site-packages\\ultralytics\\engine\\model.py:667\u001b[0m, in \u001b[0;36mModel.train\u001b[1;34m(self, trainer, **kwargs)\u001b[0m\n\u001b[0;32m    664\u001b[0m             \u001b[38;5;28;01mpass\u001b[39;00m\n\u001b[0;32m    666\u001b[0m \u001b[38;5;28mself\u001b[39m\u001b[38;5;241m.\u001b[39mtrainer\u001b[38;5;241m.\u001b[39mhub_session \u001b[38;5;241m=\u001b[39m \u001b[38;5;28mself\u001b[39m\u001b[38;5;241m.\u001b[39msession  \u001b[38;5;66;03m# attach optional HUB session\u001b[39;00m\n\u001b[1;32m--> 667\u001b[0m \u001b[38;5;28;43mself\u001b[39;49m\u001b[38;5;241;43m.\u001b[39;49m\u001b[43mtrainer\u001b[49m\u001b[38;5;241;43m.\u001b[39;49m\u001b[43mtrain\u001b[49m\u001b[43m(\u001b[49m\u001b[43m)\u001b[49m\n\u001b[0;32m    668\u001b[0m \u001b[38;5;66;03m# Update model and cfg after training\u001b[39;00m\n\u001b[0;32m    669\u001b[0m \u001b[38;5;28;01mif\u001b[39;00m RANK \u001b[38;5;129;01min\u001b[39;00m {\u001b[38;5;241m-\u001b[39m\u001b[38;5;241m1\u001b[39m, \u001b[38;5;241m0\u001b[39m}:\n",
      "File \u001b[1;32md:\\X_View_Refreshed_Project\\venv\\lib\\site-packages\\ultralytics\\engine\\trainer.py:198\u001b[0m, in \u001b[0;36mBaseTrainer.train\u001b[1;34m(self)\u001b[0m\n\u001b[0;32m    195\u001b[0m         ddp_cleanup(\u001b[38;5;28mself\u001b[39m, \u001b[38;5;28mstr\u001b[39m(file))\n\u001b[0;32m    197\u001b[0m \u001b[38;5;28;01melse\u001b[39;00m:\n\u001b[1;32m--> 198\u001b[0m     \u001b[38;5;28;43mself\u001b[39;49m\u001b[38;5;241;43m.\u001b[39;49m\u001b[43m_do_train\u001b[49m\u001b[43m(\u001b[49m\u001b[43mworld_size\u001b[49m\u001b[43m)\u001b[49m\n",
      "File \u001b[1;32md:\\X_View_Refreshed_Project\\venv\\lib\\site-packages\\ultralytics\\engine\\trainer.py:382\u001b[0m, in \u001b[0;36mBaseTrainer._do_train\u001b[1;34m(self, world_size)\u001b[0m\n\u001b[0;32m    380\u001b[0m \u001b[38;5;66;03m# Optimize - https://pytorch.org/docs/master/notes/amp_examples.html\u001b[39;00m\n\u001b[0;32m    381\u001b[0m \u001b[38;5;28;01mif\u001b[39;00m ni \u001b[38;5;241m-\u001b[39m last_opt_step \u001b[38;5;241m>\u001b[39m\u001b[38;5;241m=\u001b[39m \u001b[38;5;28mself\u001b[39m\u001b[38;5;241m.\u001b[39maccumulate:\n\u001b[1;32m--> 382\u001b[0m     \u001b[38;5;28;43mself\u001b[39;49m\u001b[38;5;241;43m.\u001b[39;49m\u001b[43moptimizer_step\u001b[49m\u001b[43m(\u001b[49m\u001b[43m)\u001b[49m\n\u001b[0;32m    383\u001b[0m     last_opt_step \u001b[38;5;241m=\u001b[39m ni\n\u001b[0;32m    385\u001b[0m     \u001b[38;5;66;03m# Timed stopping\u001b[39;00m\n",
      "File \u001b[1;32md:\\X_View_Refreshed_Project\\venv\\lib\\site-packages\\ultralytics\\engine\\trainer.py:540\u001b[0m, in \u001b[0;36mBaseTrainer.optimizer_step\u001b[1;34m(self)\u001b[0m\n\u001b[0;32m    538\u001b[0m \u001b[38;5;28mself\u001b[39m\u001b[38;5;241m.\u001b[39mscaler\u001b[38;5;241m.\u001b[39munscale_(\u001b[38;5;28mself\u001b[39m\u001b[38;5;241m.\u001b[39moptimizer)  \u001b[38;5;66;03m# unscale gradients\u001b[39;00m\n\u001b[0;32m    539\u001b[0m torch\u001b[38;5;241m.\u001b[39mnn\u001b[38;5;241m.\u001b[39mutils\u001b[38;5;241m.\u001b[39mclip_grad_norm_(\u001b[38;5;28mself\u001b[39m\u001b[38;5;241m.\u001b[39mmodel\u001b[38;5;241m.\u001b[39mparameters(), max_norm\u001b[38;5;241m=\u001b[39m\u001b[38;5;241m10.0\u001b[39m)  \u001b[38;5;66;03m# clip gradients\u001b[39;00m\n\u001b[1;32m--> 540\u001b[0m \u001b[38;5;28;43mself\u001b[39;49m\u001b[38;5;241;43m.\u001b[39;49m\u001b[43mscaler\u001b[49m\u001b[38;5;241;43m.\u001b[39;49m\u001b[43mstep\u001b[49m\u001b[43m(\u001b[49m\u001b[38;5;28;43mself\u001b[39;49m\u001b[38;5;241;43m.\u001b[39;49m\u001b[43moptimizer\u001b[49m\u001b[43m)\u001b[49m\n\u001b[0;32m    541\u001b[0m \u001b[38;5;28mself\u001b[39m\u001b[38;5;241m.\u001b[39mscaler\u001b[38;5;241m.\u001b[39mupdate()\n\u001b[0;32m    542\u001b[0m \u001b[38;5;28mself\u001b[39m\u001b[38;5;241m.\u001b[39moptimizer\u001b[38;5;241m.\u001b[39mzero_grad()\n",
      "File \u001b[1;32md:\\X_View_Refreshed_Project\\venv\\lib\\site-packages\\torch\\cuda\\amp\\grad_scaler.py:416\u001b[0m, in \u001b[0;36mGradScaler.step\u001b[1;34m(self, optimizer, *args, **kwargs)\u001b[0m\n\u001b[0;32m    410\u001b[0m     \u001b[38;5;28mself\u001b[39m\u001b[38;5;241m.\u001b[39munscale_(optimizer)\n\u001b[0;32m    412\u001b[0m \u001b[38;5;28;01massert\u001b[39;00m (\n\u001b[0;32m    413\u001b[0m     \u001b[38;5;28mlen\u001b[39m(optimizer_state[\u001b[38;5;124m\"\u001b[39m\u001b[38;5;124mfound_inf_per_device\u001b[39m\u001b[38;5;124m\"\u001b[39m]) \u001b[38;5;241m>\u001b[39m \u001b[38;5;241m0\u001b[39m\n\u001b[0;32m    414\u001b[0m ), \u001b[38;5;124m\"\u001b[39m\u001b[38;5;124mNo inf checks were recorded for this optimizer.\u001b[39m\u001b[38;5;124m\"\u001b[39m\n\u001b[1;32m--> 416\u001b[0m retval \u001b[38;5;241m=\u001b[39m \u001b[38;5;28mself\u001b[39m\u001b[38;5;241m.\u001b[39m_maybe_opt_step(optimizer, optimizer_state, \u001b[38;5;241m*\u001b[39margs, \u001b[38;5;241m*\u001b[39m\u001b[38;5;241m*\u001b[39mkwargs)\n\u001b[0;32m    418\u001b[0m optimizer_state[\u001b[38;5;124m\"\u001b[39m\u001b[38;5;124mstage\u001b[39m\u001b[38;5;124m\"\u001b[39m] \u001b[38;5;241m=\u001b[39m OptState\u001b[38;5;241m.\u001b[39mSTEPPED\n\u001b[0;32m    420\u001b[0m \u001b[38;5;28;01mreturn\u001b[39;00m retval\n",
      "File \u001b[1;32md:\\X_View_Refreshed_Project\\venv\\lib\\site-packages\\torch\\cuda\\amp\\grad_scaler.py:314\u001b[0m, in \u001b[0;36mGradScaler._maybe_opt_step\u001b[1;34m(self, optimizer, optimizer_state, *args, **kwargs)\u001b[0m\n\u001b[0;32m    312\u001b[0m \u001b[38;5;28;01mdef\u001b[39;00m \u001b[38;5;21m_maybe_opt_step\u001b[39m(\u001b[38;5;28mself\u001b[39m, optimizer, optimizer_state, \u001b[38;5;241m*\u001b[39margs, \u001b[38;5;241m*\u001b[39m\u001b[38;5;241m*\u001b[39mkwargs):\n\u001b[0;32m    313\u001b[0m     retval \u001b[38;5;241m=\u001b[39m \u001b[38;5;28;01mNone\u001b[39;00m\n\u001b[1;32m--> 314\u001b[0m     \u001b[38;5;28;01mif\u001b[39;00m \u001b[38;5;129;01mnot\u001b[39;00m \u001b[38;5;28;43msum\u001b[39;49m\u001b[43m(\u001b[49m\u001b[43mv\u001b[49m\u001b[38;5;241;43m.\u001b[39;49m\u001b[43mitem\u001b[49m\u001b[43m(\u001b[49m\u001b[43m)\u001b[49m\u001b[43m \u001b[49m\u001b[38;5;28;43;01mfor\u001b[39;49;00m\u001b[43m \u001b[49m\u001b[43mv\u001b[49m\u001b[43m \u001b[49m\u001b[38;5;129;43;01min\u001b[39;49;00m\u001b[43m \u001b[49m\u001b[43moptimizer_state\u001b[49m\u001b[43m[\u001b[49m\u001b[38;5;124;43m\"\u001b[39;49m\u001b[38;5;124;43mfound_inf_per_device\u001b[39;49m\u001b[38;5;124;43m\"\u001b[39;49m\u001b[43m]\u001b[49m\u001b[38;5;241;43m.\u001b[39;49m\u001b[43mvalues\u001b[49m\u001b[43m(\u001b[49m\u001b[43m)\u001b[49m\u001b[43m)\u001b[49m:\n\u001b[0;32m    315\u001b[0m         retval \u001b[38;5;241m=\u001b[39m optimizer\u001b[38;5;241m.\u001b[39mstep(\u001b[38;5;241m*\u001b[39margs, \u001b[38;5;241m*\u001b[39m\u001b[38;5;241m*\u001b[39mkwargs)\n\u001b[0;32m    316\u001b[0m     \u001b[38;5;28;01mreturn\u001b[39;00m retval\n",
      "File \u001b[1;32md:\\X_View_Refreshed_Project\\venv\\lib\\site-packages\\torch\\cuda\\amp\\grad_scaler.py:314\u001b[0m, in \u001b[0;36m<genexpr>\u001b[1;34m(.0)\u001b[0m\n\u001b[0;32m    312\u001b[0m \u001b[38;5;28;01mdef\u001b[39;00m \u001b[38;5;21m_maybe_opt_step\u001b[39m(\u001b[38;5;28mself\u001b[39m, optimizer, optimizer_state, \u001b[38;5;241m*\u001b[39margs, \u001b[38;5;241m*\u001b[39m\u001b[38;5;241m*\u001b[39mkwargs):\n\u001b[0;32m    313\u001b[0m     retval \u001b[38;5;241m=\u001b[39m \u001b[38;5;28;01mNone\u001b[39;00m\n\u001b[1;32m--> 314\u001b[0m     \u001b[38;5;28;01mif\u001b[39;00m \u001b[38;5;129;01mnot\u001b[39;00m \u001b[38;5;28msum\u001b[39m(\u001b[43mv\u001b[49m\u001b[38;5;241;43m.\u001b[39;49m\u001b[43mitem\u001b[49m\u001b[43m(\u001b[49m\u001b[43m)\u001b[49m \u001b[38;5;28;01mfor\u001b[39;00m v \u001b[38;5;129;01min\u001b[39;00m optimizer_state[\u001b[38;5;124m\"\u001b[39m\u001b[38;5;124mfound_inf_per_device\u001b[39m\u001b[38;5;124m\"\u001b[39m]\u001b[38;5;241m.\u001b[39mvalues()):\n\u001b[0;32m    315\u001b[0m         retval \u001b[38;5;241m=\u001b[39m optimizer\u001b[38;5;241m.\u001b[39mstep(\u001b[38;5;241m*\u001b[39margs, \u001b[38;5;241m*\u001b[39m\u001b[38;5;241m*\u001b[39mkwargs)\n\u001b[0;32m    316\u001b[0m     \u001b[38;5;28;01mreturn\u001b[39;00m retval\n",
      "\u001b[1;31mKeyboardInterrupt\u001b[0m: "
     ]
    }
   ],
   "source": [
    "results = model.train(data='D:/X_View_Refreshed_Project/military_xview.yaml', epochs=100, imgsz=512)"
   ]
  },
  {
   "cell_type": "code",
   "execution_count": 7,
   "metadata": {},
   "outputs": [
    {
     "name": "stdout",
     "output_type": "stream",
     "text": [
      "Ultralytics YOLOv8.1.4 🚀 Python-3.9.0 torch-2.1.1+cu118 CUDA:0 (NVIDIA GeForce GTX 1660 SUPER, 6144MiB)\n",
      "Model summary (fused): 168 layers, 3007403 parameters, 0 gradients, 8.1 GFLOPs\n",
      "\n",
      "image 1/85 D:\\Military_Based_XView_Dataset\\test\\images\\104.tif: 416x512 (no detections), 77.4ms\n",
      "image 2/85 D:\\Military_Based_XView_Dataset\\test\\images\\1081.tif: 416x512 1 Fixed-wing Aircraft, 8.0ms\n",
      "image 3/85 D:\\Military_Based_XView_Dataset\\test\\images\\110.tif: 448x512 (no detections), 54.0ms\n",
      "image 4/85 D:\\Military_Based_XView_Dataset\\test\\images\\1124.tif: 416x512 (no detections), 8.0ms\n",
      "image 5/85 D:\\Military_Based_XView_Dataset\\test\\images\\1132.tif: 416x512 (no detections), 8.0ms\n",
      "image 6/85 D:\\Military_Based_XView_Dataset\\test\\images\\1140.tif: 512x512 (no detections), 9.0ms\n",
      "image 7/85 D:\\Military_Based_XView_Dataset\\test\\images\\1180.tif: 512x512 1 Tower, 8.0ms\n",
      "image 8/85 D:\\Military_Based_XView_Dataset\\test\\images\\1182.tif: 512x512 (no detections), 8.0ms\n",
      "image 9/85 D:\\Military_Based_XView_Dataset\\test\\images\\1208.tif: 512x512 (no detections), 7.0ms\n",
      "image 10/85 D:\\Military_Based_XView_Dataset\\test\\images\\1237.tif: 512x512 (no detections), 8.0ms\n",
      "image 11/85 D:\\Military_Based_XView_Dataset\\test\\images\\128.tif: 448x512 1 Military Vessel, 13.0ms\n",
      "image 12/85 D:\\Military_Based_XView_Dataset\\test\\images\\1384.tif: 448x512 (no detections), 7.0ms\n",
      "image 13/85 D:\\Military_Based_XView_Dataset\\test\\images\\1449.tif: 480x512 (no detections), 51.0ms\n",
      "image 14/85 D:\\Military_Based_XView_Dataset\\test\\images\\1468.tif: 480x512 (no detections), 7.0ms\n",
      "image 15/85 D:\\Military_Based_XView_Dataset\\test\\images\\1507.tif: 512x512 (no detections), 9.0ms\n",
      "image 16/85 D:\\Military_Based_XView_Dataset\\test\\images\\1530.tif: 512x512 (no detections), 8.0ms\n",
      "image 17/85 D:\\Military_Based_XView_Dataset\\test\\images\\1581.tif: 448x512 (no detections), 22.0ms\n",
      "image 18/85 D:\\Military_Based_XView_Dataset\\test\\images\\1586.tif: 512x512 2 Truck Tractor w/ Box Trailers, 37.0ms\n",
      "image 19/85 D:\\Military_Based_XView_Dataset\\test\\images\\1587.tif: 512x512 3 Small Aircrafts, 1 Helicopter, 39.0ms\n",
      "image 20/85 D:\\Military_Based_XView_Dataset\\test\\images\\1590.tif: 512x512 1 Small Aircraft, 1 Helicopter, 39.0ms\n",
      "image 21/85 D:\\Military_Based_XView_Dataset\\test\\images\\1630.tif: 512x512 1 Truck Tractor w/ Box Trailer, 40.0ms\n",
      "image 22/85 D:\\Military_Based_XView_Dataset\\test\\images\\1651.tif: 448x512 (no detections), 36.0ms\n",
      "image 23/85 D:\\Military_Based_XView_Dataset\\test\\images\\1769.tif: 480x512 (no detections), 42.0ms\n",
      "image 24/85 D:\\Military_Based_XView_Dataset\\test\\images\\1784.tif: 512x512 (no detections), 43.0ms\n",
      "image 25/85 D:\\Military_Based_XView_Dataset\\test\\images\\1786.tif: 512x512 1 Tower, 42.0ms\n",
      "image 26/85 D:\\Military_Based_XView_Dataset\\test\\images\\1799.tif: 512x512 (no detections), 41.0ms\n",
      "image 27/85 D:\\Military_Based_XView_Dataset\\test\\images\\1824.tif: 512x512 2 Truck Tractor w/ Box Trailers, 39.0ms\n",
      "image 28/85 D:\\Military_Based_XView_Dataset\\test\\images\\1832.tif: 512x512 (no detections), 43.0ms\n",
      "image 29/85 D:\\Military_Based_XView_Dataset\\test\\images\\1849.tif: 512x512 1 Military Vessel, 40.0ms\n",
      "image 30/85 D:\\Military_Based_XView_Dataset\\test\\images\\1912.tif: 512x512 1 Fixed-wing Aircraft, 39.0ms\n",
      "image 31/85 D:\\Military_Based_XView_Dataset\\test\\images\\1920.tif: 448x512 (no detections), 37.0ms\n",
      "image 32/85 D:\\Military_Based_XView_Dataset\\test\\images\\1926.tif: 448x512 1 Tower, 36.0ms\n",
      "image 33/85 D:\\Military_Based_XView_Dataset\\test\\images\\1927.tif: 352x512 (no detections), 52.0ms\n",
      "image 34/85 D:\\Military_Based_XView_Dataset\\test\\images\\1932.tif: 352x512 (no detections), 35.0ms\n",
      "image 35/85 D:\\Military_Based_XView_Dataset\\test\\images\\1961.tif: 416x512 (no detections), 34.0ms\n",
      "image 36/85 D:\\Military_Based_XView_Dataset\\test\\images\\1983.tif: 416x512 (no detections), 36.0ms\n",
      "image 37/85 D:\\Military_Based_XView_Dataset\\test\\images\\1985.tif: 416x512 1 Helicopter, 35.0ms\n",
      "image 38/85 D:\\Military_Based_XView_Dataset\\test\\images\\2000.tif: 416x512 (no detections), 33.0ms\n",
      "image 39/85 D:\\Military_Based_XView_Dataset\\test\\images\\2010.tif: 352x512 (no detections), 31.0ms\n",
      "image 40/85 D:\\Military_Based_XView_Dataset\\test\\images\\2014.tif: 352x512 (no detections), 32.0ms\n",
      "image 41/85 D:\\Military_Based_XView_Dataset\\test\\images\\2021.tif: 352x512 (no detections), 32.0ms\n",
      "image 42/85 D:\\Military_Based_XView_Dataset\\test\\images\\203.tif: 416x512 1 Fixed-wing Aircraft, 36.0ms\n",
      "image 43/85 D:\\Military_Based_XView_Dataset\\test\\images\\2207.tif: 512x512 (no detections), 42.0ms\n",
      "image 44/85 D:\\Military_Based_XView_Dataset\\test\\images\\2242.tif: 480x512 (no detections), 42.0ms\n",
      "image 45/85 D:\\Military_Based_XView_Dataset\\test\\images\\2281.tif: 416x512 1 Military Vessel, 40.0ms\n",
      "image 46/85 D:\\Military_Based_XView_Dataset\\test\\images\\2320.tif: 480x512 (no detections), 37.0ms\n",
      "image 47/85 D:\\Military_Based_XView_Dataset\\test\\images\\2334.tif: 416x512 (no detections), 34.0ms\n",
      "image 48/85 D:\\Military_Based_XView_Dataset\\test\\images\\2416.tif: 448x512 (no detections), 37.0ms\n",
      "image 49/85 D:\\Military_Based_XView_Dataset\\test\\images\\2499.tif: 512x512 (no detections), 41.0ms\n",
      "image 50/85 D:\\Military_Based_XView_Dataset\\test\\images\\2520.tif: 512x512 (no detections), 40.0ms\n",
      "image 51/85 D:\\Military_Based_XView_Dataset\\test\\images\\2530.tif: 448x512 2 Small Aircrafts, 3 Passenger/Cargo Planes, 41.0ms\n",
      "image 52/85 D:\\Military_Based_XView_Dataset\\test\\images\\2552.tif: 384x512 (no detections), 52.0ms\n",
      "image 53/85 D:\\Military_Based_XView_Dataset\\test\\images\\2562.tif: 416x512 (no detections), 36.0ms\n",
      "image 54/85 D:\\Military_Based_XView_Dataset\\test\\images\\2571.tif: 384x512 1 Military Vessel, 33.0ms\n",
      "image 55/85 D:\\Military_Based_XView_Dataset\\test\\images\\2584.tif: 384x512 (no detections), 34.0ms\n",
      "image 56/85 D:\\Military_Based_XView_Dataset\\test\\images\\2587.tif: 512x512 1 Truck Tractor w/ Box Trailer, 40.0ms\n",
      "image 57/85 D:\\Military_Based_XView_Dataset\\test\\images\\2608.tif: 512x512 (no detections), 40.0ms\n",
      "image 58/85 D:\\Military_Based_XView_Dataset\\test\\images\\291.tif: 352x512 (no detections), 32.0ms\n",
      "image 59/85 D:\\Military_Based_XView_Dataset\\test\\images\\295.tif: 352x512 (no detections), 31.0ms\n",
      "image 60/85 D:\\Military_Based_XView_Dataset\\test\\images\\302.tif: 352x512 (no detections), 30.0ms\n",
      "image 61/85 D:\\Military_Based_XView_Dataset\\test\\images\\321.tif: 352x512 1 Military Vessel, 32.0ms\n",
      "image 62/85 D:\\Military_Based_XView_Dataset\\test\\images\\342.tif: 512x512 (no detections), 43.0ms\n",
      "image 63/85 D:\\Military_Based_XView_Dataset\\test\\images\\386.tif: 512x512 (no detections), 43.0ms\n",
      "image 64/85 D:\\Military_Based_XView_Dataset\\test\\images\\41.tif: 512x512 (no detections), 43.0ms\n",
      "image 65/85 D:\\Military_Based_XView_Dataset\\test\\images\\422.tif: 480x512 (no detections), 38.0ms\n",
      "image 66/85 D:\\Military_Based_XView_Dataset\\test\\images\\437.tif: 480x512 (no detections), 41.0ms\n",
      "image 67/85 D:\\Military_Based_XView_Dataset\\test\\images\\464.tif: 480x512 (no detections), 36.0ms\n",
      "image 68/85 D:\\Military_Based_XView_Dataset\\test\\images\\520.tif: 480x512 (no detections), 37.0ms\n",
      "image 69/85 D:\\Military_Based_XView_Dataset\\test\\images\\53.tif: 416x512 1 Truck Tractor w/ Box Trailer, 36.0ms\n",
      "image 70/85 D:\\Military_Based_XView_Dataset\\test\\images\\538.tif: 480x512 (no detections), 38.0ms\n",
      "image 71/85 D:\\Military_Based_XView_Dataset\\test\\images\\594.tif: 480x512 (no detections), 37.0ms\n",
      "image 72/85 D:\\Military_Based_XView_Dataset\\test\\images\\600.tif: 512x512 (no detections), 42.0ms\n",
      "image 73/85 D:\\Military_Based_XView_Dataset\\test\\images\\619.tif: 480x512 (no detections), 41.0ms\n",
      "image 74/85 D:\\Military_Based_XView_Dataset\\test\\images\\674.tif: 480x512 (no detections), 36.0ms\n",
      "image 75/85 D:\\Military_Based_XView_Dataset\\test\\images\\720.tif: 512x512 (no detections), 40.0ms\n",
      "image 76/85 D:\\Military_Based_XView_Dataset\\test\\images\\756.tif: 512x512 (no detections), 42.0ms\n",
      "image 77/85 D:\\Military_Based_XView_Dataset\\test\\images\\764.tif: 512x512 (no detections), 38.0ms\n",
      "image 78/85 D:\\Military_Based_XView_Dataset\\test\\images\\765.tif: 512x512 (no detections), 38.0ms\n",
      "image 79/85 D:\\Military_Based_XView_Dataset\\test\\images\\813.tif: 480x512 (no detections), 41.0ms\n",
      "image 80/85 D:\\Military_Based_XView_Dataset\\test\\images\\860.tif: 512x512 (no detections), 41.0ms\n",
      "image 81/85 D:\\Military_Based_XView_Dataset\\test\\images\\905.tif: 512x512 1 Truck Tractor w/ Box Trailer, 43.0ms\n",
      "image 82/85 D:\\Military_Based_XView_Dataset\\test\\images\\94.tif: 416x512 (no detections), 36.0ms\n",
      "image 83/85 D:\\Military_Based_XView_Dataset\\test\\images\\960.tif: 480x512 (no detections), 41.0ms\n",
      "image 84/85 D:\\Military_Based_XView_Dataset\\test\\images\\97.tif: 416x512 (no detections), 37.0ms\n",
      "image 85/85 D:\\Military_Based_XView_Dataset\\test\\images\\983.tif: 480x512 (no detections), 38.0ms\n",
      "Speed: 4.5ms preprocess, 34.4ms inference, 1.8ms postprocess per image at shape (1, 3, 480, 512)\n",
      "Results saved to \u001b[1mruns\\detect\\predict4\u001b[0m\n",
      "💡 Learn more at https://docs.ultralytics.com/modes/predict\n"
     ]
    }
   ],
   "source": [
    "!yolo detect predict model=runs/detect/train9/weights/best.pt source='D:/Military_Based_XView_Dataset/test/images'"
   ]
  }
 ],
 "metadata": {
  "kernelspec": {
   "display_name": "myvenv",
   "language": "python",
   "name": "python3"
  },
  "language_info": {
   "codemirror_mode": {
    "name": "ipython",
    "version": 3
   },
   "file_extension": ".py",
   "mimetype": "text/x-python",
   "name": "python",
   "nbconvert_exporter": "python",
   "pygments_lexer": "ipython3",
   "version": "3.9.10"
  }
 },
 "nbformat": 4,
 "nbformat_minor": 2
}
